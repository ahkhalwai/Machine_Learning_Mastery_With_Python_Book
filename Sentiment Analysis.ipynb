{
 "cells": [
  {
   "cell_type": "code",
   "execution_count": 9,
   "metadata": {},
   "outputs": [
    {
     "ename": "ModuleNotFoundError",
     "evalue": "No module named '__main__.models'; '__main__' is not a package",
     "output_type": "error",
     "traceback": [
      "\u001b[1;31m---------------------------------------------------------------------------\u001b[0m",
      "\u001b[1;31mModuleNotFoundError\u001b[0m                       Traceback (most recent call last)",
      "\u001b[1;32m<ipython-input-9-beed9b222461>\u001b[0m in \u001b[0;36m<module>\u001b[1;34m\u001b[0m\n\u001b[0;32m      3\u001b[0m \u001b[1;32mimport\u001b[0m \u001b[0m_pickle\u001b[0m\u001b[1;33m\u001b[0m\u001b[0m\n\u001b[0;32m      4\u001b[0m \u001b[1;32mimport\u001b[0m \u001b[0mnumpy\u001b[0m \u001b[1;32mas\u001b[0m \u001b[0mnp\u001b[0m\u001b[1;33m\u001b[0m\u001b[0m\n\u001b[1;32m----> 5\u001b[1;33m \u001b[1;32mfrom\u001b[0m \u001b[1;33m.\u001b[0m\u001b[0mmodels\u001b[0m \u001b[1;32mimport\u001b[0m \u001b[0mNLPModel\u001b[0m\u001b[1;33m\u001b[0m\u001b[0m\n\u001b[0m\u001b[0;32m      6\u001b[0m \u001b[1;33m\u001b[0m\u001b[0m\n\u001b[0;32m      7\u001b[0m \u001b[0mapp\u001b[0m \u001b[1;33m=\u001b[0m \u001b[0mFlask\u001b[0m\u001b[1;33m(\u001b[0m\u001b[0m__name__\u001b[0m\u001b[1;33m)\u001b[0m\u001b[1;33m\u001b[0m\u001b[0m\n",
      "\u001b[1;31mModuleNotFoundError\u001b[0m: No module named '__main__.models'; '__main__' is not a package"
     ]
    }
   ],
   "source": [
    "from flask import Flask\n",
    "from flask_restful import reqparse, abort, Api, Resource\n",
    "import _pickle\n",
    "import numpy as np\n",
    "from .models import NLPModel\n",
    "\n",
    "app = Flask(__name__)\n",
    "api = Api(app)\n",
    "\n",
    "model = NLPModel()\n",
    "\n",
    "clf_path = 'lib/models/SentimentClassifier.pkl'\n",
    "with open(clf_path, 'rb') as f:\n",
    "    model.clf = pickle.load(f)\n",
    "    \n",
    "vec_path = 'lib/models/TFIDFVectorizer.pkl'\n",
    "with open(vec_path, 'rb') as f:\n",
    "    model.vectorizer = pickle.load(f)\n",
    "\n",
    "# argument parsing\n",
    "parser = reqparse.RequestParser()\n",
    "parser.add_argument('query')\n",
    "\n",
    "\n",
    "class PredictSentiment(Resource):\n",
    "    def get(self):\n",
    "        # use parser and find the user's query\n",
    "        args = parser.parse_args()\n",
    "        user_query = args['query']\n",
    "        \n",
    "        # vectorize the user's query and make a prediction\n",
    "        uq_vectorized = model.vectorizer_transform(np.array([user_query]))\n",
    "        prediction = model.predict(uq_vectorized)\n",
    "        pred_proba = model.predict_proba(uq_vectorized)\n",
    "\n",
    "        # Output either 'Negative' or 'Positive' along with the score\n",
    "        if prediction == 0:\n",
    "            pred_text = 'Negative'\n",
    "        else:\n",
    "            pred_text = 'Positive'\n",
    "            \n",
    "        # round the predict proba value and set to new variable\n",
    "        confidence = round(pred_proba[0], 3)\n",
    "\n",
    "        # create JSON object\n",
    "        output = {'prediction': pred_text, 'confidence': confidence}\n",
    "        \n",
    "        return output\n",
    "\n",
    "# Setup the Api resource routing here\n",
    "# Route the URL to the resource\n",
    "api.add_resource(PredictSentiment, '/')\n",
    "\n",
    "\n",
    "if __name__ == '__main__':\n",
    "    app.run(debug=True)"
   ]
  },
  {
   "cell_type": "code",
   "execution_count": 6,
   "metadata": {},
   "outputs": [
    {
     "name": "stdout",
     "output_type": "stream",
     "text": [
      "Collecting model\n",
      "Note: you may need to restart the kernel to use updated packages.\n"
     ]
    },
    {
     "name": "stderr",
     "output_type": "stream",
     "text": [
      "  Could not find a version that satisfies the requirement model (from versions: )\n",
      "No matching distribution found for model\n",
      "You are using pip version 19.0.3, however version 19.1 is available.\n",
      "You should consider upgrading via the 'python -m pip install --upgrade pip' command.\n"
     ]
    }
   ],
   "source": [
    "pip install model"
   ]
  }
 ],
 "metadata": {
  "kernelspec": {
   "display_name": "Python 3",
   "language": "python",
   "name": "python3"
  },
  "language_info": {
   "codemirror_mode": {
    "name": "ipython",
    "version": 3
   },
   "file_extension": ".py",
   "mimetype": "text/x-python",
   "name": "python",
   "nbconvert_exporter": "python",
   "pygments_lexer": "ipython3",
   "version": "3.6.5"
  }
 },
 "nbformat": 4,
 "nbformat_minor": 2
}
